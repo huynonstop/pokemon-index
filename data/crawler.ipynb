{
 "cells": [
  {
   "cell_type": "code",
   "execution_count": 4,
   "metadata": {},
   "outputs": [],
   "source": [
    "# !pip install lxml\n",
    "# !pip install cssselect"
   ]
  },
  {
   "cell_type": "code",
   "execution_count": 1,
   "metadata": {},
   "outputs": [],
   "source": [
    "import requests\n",
    "from lxml import html\n",
    "import numpy as np\n",
    "import pandas as pd\n",
    "\n",
    "def get_list(l , idx, default = None):\n",
    "    try:\n",
    "        return l[idx]\n",
    "    except IndexError:\n",
    "        return default\n",
    "\n",
    "def parse_int(v):\n",
    "    if v is None:\n",
    "        return None\n",
    "    try:\n",
    "        return int(v)\n",
    "    except ValueError:\n",
    "        return None"
   ]
  },
  {
   "cell_type": "code",
   "execution_count": 2,
   "metadata": {},
   "outputs": [],
   "source": [
    "session = requests.Session()\n",
    "session.headers.update({\n",
    "    'user-agent': 'Mozilla/5.0 (Windows NT 10.0; Win64; x64) AppleWebKit/537.36 (KHTML, like Gecko) Chrome/95.0.4638.69 Safari/537.36 Edg/95.0.1020.53'\n",
    "})"
   ]
  },
  {
   "cell_type": "code",
   "execution_count": 3,
   "metadata": {},
   "outputs": [
    {
     "data": {
      "text/plain": [
       "{'user-agent': 'Mozilla/5.0 (Windows NT 10.0; Win64; x64) AppleWebKit/537.36 (KHTML, like Gecko) Chrome/95.0.4638.69 Safari/537.36 Edg/95.0.1020.53', 'Accept-Encoding': 'gzip, deflate', 'Accept': '*/*', 'Connection': 'keep-alive'}"
      ]
     },
     "execution_count": 3,
     "metadata": {},
     "output_type": "execute_result"
    }
   ],
   "source": [
    "res_pokedex = session.get('https://pokemondb.net/pokedex/all')\n",
    "res_pokedex.request.headers"
   ]
  },
  {
   "cell_type": "code",
   "execution_count": 6,
   "metadata": {},
   "outputs": [],
   "source": [
    "doc_pokedex = html.fromstring(res_pokedex.text)\n",
    "pokedex = doc_pokedex.get_element_by_id(id='pokedex')\n",
    "pokedex_rows = pokedex.find('tbody').findall('tr')\n",
    "def parseRowPokedex(row):\n",
    "    id = row.cssselect('td.cell-num.cell-fixed .infocard-cell-data')\n",
    "    name = row.cssselect('a.ent-name')\n",
    "    sub_name = row.cssselect('small.text-muted')\n",
    "    types = list(map(lambda t: t.text_content(), row.cssselect('.type-icon')))\n",
    "    # HP, Atk, Def, SpAtk, SpDef, Speed \n",
    "    stats = list(map(lambda t: int(t.text_content()), row.cssselect('td.cell-num:nth-last-child(-n + 6)')))\n",
    "    return {\n",
    "        'id': int(id[0].text_content()) if len(id) else None,\n",
    "        'name': name[0].text_content() if len(name) else None,\n",
    "        'sub_name': sub_name[0].text_content() if len(sub_name) else None,\n",
    "        'types': types,\n",
    "        'stats': stats\n",
    "    }\n",
    "\n",
    "pokedex_data = list(map(parseRowPokedex, pokedex_rows))\n",
    "\n",
    "pokedex_headers = ['id', 'name', 'sub_name', 'type_1', 'type_2']\n",
    "def toPandasPokedexRows(row):\n",
    "    types = row['types']\n",
    "    return [row['id'], row['name'], row['sub_name'], get_list(types, 0), get_list(types, 1)]\n",
    "pokedex_df = pd.DataFrame(list(map(toPandasPokedexRows, pokedex_data)), columns=pokedex_headers)\n",
    "pokedex_df.to_csv('./raw-data/pokedex.csv', index=False)\n"
   ]
  },
  {
   "cell_type": "code",
   "execution_count": 7,
   "metadata": {},
   "outputs": [
    {
     "data": {
      "text/plain": [
       "{'user-agent': 'Mozilla/5.0 (Windows NT 10.0; Win64; x64) AppleWebKit/537.36 (KHTML, like Gecko) Chrome/95.0.4638.69 Safari/537.36 Edg/95.0.1020.53', 'Accept-Encoding': 'gzip, deflate', 'Accept': '*/*', 'Connection': 'keep-alive'}"
      ]
     },
     "execution_count": 7,
     "metadata": {},
     "output_type": "execute_result"
    }
   ],
   "source": [
    "res_moves = session.get('https://pokemondb.net/move/all')\n",
    "res_moves.request.headers"
   ]
  },
  {
   "cell_type": "code",
   "execution_count": 8,
   "metadata": {},
   "outputs": [],
   "source": [
    "doc_moves = html.fromstring(res_moves.text)\n",
    "moves = doc_moves.get_element_by_id(id='moves')\n",
    "moves_rows = moves.find('tbody').findall('tr')\n",
    "\n",
    "def parseRowMoves(row):\n",
    "    col = row.cssselect('td')\n",
    "\n",
    "    name = col[0].cssselect('a')[0]\n",
    "    type = col[1].cssselect('a')[0]\n",
    "    type_damage = col[2]\n",
    "    power = col[3]\n",
    "    acc = col[4]\n",
    "    pp = col[5]\n",
    "    tm = col[6]\n",
    "    effect = col[7]\n",
    "    prob = col[8]\n",
    "\n",
    "    return {\n",
    "        'name': name.text_content(),\n",
    "        'type': type.text_content(),\n",
    "        'type_damage': type_damage.get('data-sort-value'),\n",
    "        'power': parse_int(power.text_content()),\n",
    "        'acc': parse_int(acc.text_content()),\n",
    "        'pp': parse_int(pp.text_content()),\n",
    "        'tm': tm.text_content(),\n",
    "        'effect': effect.text_content(),\n",
    "        'prob': parse_int(prob.text_content())\n",
    "    }\n",
    "\n",
    "moves_data = list(map(parseRowMoves, moves_rows))\n",
    "\n",
    "moves_headers = ['name', 'type', 'type_damage', 'power', 'acc', 'pp', 'tm', 'effect', 'prob']\n",
    "def toPandasMovesRows(row):\n",
    "    return [row['name'], row['type'], row['type_damage'], row['power'], row['acc'], row['pp'], row['tm'], row['effect'], row['prob']]\n",
    "moves_df = pd.DataFrame(list(map(toPandasMovesRows, moves_data)), columns=moves_headers)\n",
    "moves_df.to_csv('./raw-data/moves.csv', index=False)"
   ]
  },
  {
   "cell_type": "code",
   "execution_count": 9,
   "metadata": {},
   "outputs": [
    {
     "data": {
      "text/plain": [
       "{'user-agent': 'Mozilla/5.0 (Windows NT 10.0; Win64; x64) AppleWebKit/537.36 (KHTML, like Gecko) Chrome/95.0.4638.69 Safari/537.36 Edg/95.0.1020.53', 'Accept-Encoding': 'gzip, deflate', 'Accept': '*/*', 'Connection': 'keep-alive'}"
      ]
     },
     "execution_count": 9,
     "metadata": {},
     "output_type": "execute_result"
    }
   ],
   "source": [
    "res_abilities = session.get('https://pokemondb.net/ability')\n",
    "res_abilities.request.headers"
   ]
  },
  {
   "cell_type": "code",
   "execution_count": 10,
   "metadata": {},
   "outputs": [],
   "source": [
    "doc_abilities = html.fromstring(res_abilities.text)\n",
    "abilities = doc_abilities.get_element_by_id(id='abilities')\n",
    "abilities_rows = abilities.find('tbody').findall('tr')\n",
    "\n",
    "def parseRowAbilities(row):\n",
    "    col = row.cssselect('td')\n",
    "\n",
    "    name = col[0].cssselect('a')[0]\n",
    "    desc = col[2]\n",
    "    gen = col[3]\n",
    "    return {\n",
    "        'name': name.text_content(),\n",
    "        'desc': desc.text_content(),\n",
    "        'gen': gen.text_content()\n",
    "    }\n",
    "\n",
    "abilities_data = list(map(parseRowAbilities, abilities_rows))\n",
    "\n",
    "ablt_headers = ['name', 'desc', 'gen']\n",
    "def toPandasAbltRows(row):\n",
    "    return [row['name'], row['desc'], row['gen']]\n",
    "ablt = pd.DataFrame(list(map(toPandasAbltRows, abilities_data)), columns=ablt_headers)\n",
    "ablt.to_csv('./raw-data/abilities.csv', index=False)"
   ]
  },
  {
   "cell_type": "code",
   "execution_count": 11,
   "metadata": {},
   "outputs": [
    {
     "data": {
      "text/plain": [
       "{'user-agent': 'Mozilla/5.0 (Windows NT 10.0; Win64; x64) AppleWebKit/537.36 (KHTML, like Gecko) Chrome/95.0.4638.69 Safari/537.36 Edg/95.0.1020.53', 'Accept-Encoding': 'gzip, deflate', 'Accept': '*/*', 'Connection': 'keep-alive'}"
      ]
     },
     "execution_count": 11,
     "metadata": {},
     "output_type": "execute_result"
    }
   ],
   "source": [
    "res_items = session.get('https://pokemondb.net/item/all')\n",
    "res_items.request.headers"
   ]
  },
  {
   "cell_type": "code",
   "execution_count": 12,
   "metadata": {},
   "outputs": [],
   "source": [
    "doc_items = html.fromstring(res_items.text)\n",
    "items = doc_items.cssselect('table.data-table.block-wide')[0]\n",
    "items_rows = items.find('tbody').findall('tr')\n",
    "\n",
    "def parseRowItems(row):\n",
    "    col = row.cssselect('td')\n",
    "\n",
    "    name = col[0].cssselect('a')[0]\n",
    "    cat = col[1]\n",
    "    desc = col[2]\n",
    "    return {\n",
    "        'name': name.text_content(),\n",
    "        'cat': cat.text_content(),\n",
    "        'desc': desc.text_content()\n",
    "    }\n",
    "\n",
    "items_data = list(map(parseRowItems, items_rows))\n",
    "\n",
    "items_headers = ['name', 'cat', 'desc']\n",
    "def toPandasItemsRows(row):\n",
    "    return [row['name'], row['cat'], row['desc']]\n",
    "items = pd.DataFrame(list(map(toPandasItemsRows, items_data)), columns=items_headers)\n",
    "items.to_csv('./raw-data/items.csv', index=False)"
   ]
  },
  {
   "cell_type": "code",
   "execution_count": 13,
   "metadata": {},
   "outputs": [],
   "source": [
    "types = ['normal', 'fire', 'water', 'electric', 'grass', 'ice', 'fighting', 'poison', 'ground', 'flying', 'psychic', 'bug', 'rock', 'ghost', 'dragon', 'dark', 'steel', 'fairy']\n",
    "\n",
    "v_list = lambda v,n = None: [v] * n if n is not None else [v]\n",
    "\n",
    "types_matrix = [\n",
    "    [*v_list(1,12), .5, 0, 1, 1, .5, 1], # NORMAL\n",
    "    [1, .5, .5, 1, 2, 2, *v_list(1, 5), 2, .5, 1, .5, 1, 2, 1], # FIRE\n",
    "    [1, 2, .5, 1, .5, *v_list(1,3), 2, *v_list(1,3), 2, 1, .5, *v_list(1,3)], #WATER\n",
    "    [*v_list(1,2), 2, *v_list(.5,2), *v_list(1,3), 0, 2, *v_list(1,4), .5, *v_list(1,3)], #ELEC\n",
    "    [1, .5, 2, 1, .5, *v_list(1,2), .5,2,.5,1,.5,2,1,.5,1,.5,1], # GRASS\n",
    "    [1, *v_list(.5,2), 1,2,.5, *v_list(1,2), *v_list(2,2), *v_list(1,4), 2,1,.5,1], # ICE\n",
    "    [2, *v_list(1,4), 2,1,.5,1,*v_list(.5,3),2,0,1,2,2,.5], # FIGHT\n",
    "    [*v_list(1,4), 2, 1, 1, .5, .5, *v_list(1,3), .5, .5, 1, 1, 0, 2], # POISON\n",
    "    [1,2,1,2,.5,1,1,2,1,0,1,.5,2,*v_list(1,3),2,1], # GROUND\n",
    "    [*v_list(1,3), .5, 2,1, 2, *v_list(1,4), 2,.5,*v_list(1,3),.5,1], #FLYING\n",
    "    [*v_list(1,6), 2, 2, 1, 1, .5, *v_list(1,4), 0, .5, 1], # PSYCHIC\n",
    "    [1, .5, 1, 1, 2, 1, .5, .5, 1, .5, 2, 1, 1, .5, 1, 2, .5, .5], # bug\n",
    "    [1, 2, *v_list(1,3), 2, .5, 1, .5, 2, 1, 2, *v_list(1,4), .5, 1], # ROCK\n",
    "    [0, *v_list(1,9), 2, 1, 1, 2, 1, .5, 1, 1], # GHOST\n",
    "    [*v_list(1,14), 2, 1, .5, 0], # FAIRY\n",
    "    [*v_list(1,6), .5, *v_list(1,3), 2, 1, 1, 2, 1, .5, 1, .5], # DARK\n",
    "    [1, *v_list(.5,3), 1, 2, *v_list(1,6), 2, *v_list(1,3), .5, 2], # STEEL\n",
    "    [1, .5, *v_list(1,4), 2, .5, *v_list(1,6), 2, 2, .5, 1] # FAIRY\n",
    "]\n",
    "\n",
    "flat = [item for sublist in types_matrix for item in sublist]\n",
    "\n",
    "\n",
    "df = pd.DataFrame(np.reshape(np.matrix(flat), (18,18)), columns=types, index=types)\n",
    "\n",
    "def style_function(v):\n",
    "    if v == 0:\n",
    "        return 'text-align: center;background:red;color:black;'\n",
    "    if v == 0.5:\n",
    "        return 'text-align: center;background:orange;color:black;'\n",
    "    if v == 2:\n",
    "        return 'text-align: center;background:green;color:black;'\n",
    "    return 'text-align: center;background:white;color:black;'\n",
    "\n",
    "df.style.applymap(style_function).format(\"{:.2}\")\n",
    "df.to_csv('./raw-data/types.csv')"
   ]
  }
 ],
 "metadata": {
  "interpreter": {
   "hash": "63fd5069d213b44bf678585dea6b12cceca9941eaf7f819626cde1f2670de90d"
  },
  "kernelspec": {
   "display_name": "Python 3.9.6 64-bit",
   "language": "python",
   "name": "python3"
  },
  "language_info": {
   "codemirror_mode": {
    "name": "ipython",
    "version": 3
   },
   "file_extension": ".py",
   "mimetype": "text/x-python",
   "name": "python",
   "nbconvert_exporter": "python",
   "pygments_lexer": "ipython3",
   "version": "3.9.6"
  },
  "orig_nbformat": 4
 },
 "nbformat": 4,
 "nbformat_minor": 2
}
